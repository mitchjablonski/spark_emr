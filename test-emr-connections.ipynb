{
 "cells": [
  {
   "cell_type": "code",
   "execution_count": 1,
   "id": "furnished-container",
   "metadata": {},
   "outputs": [
    {
     "data": {
      "application/vnd.jupyter.widget-view+json": {
       "model_id": "4fbab0fd14cd49519739548e3fce6f84",
       "version_major": 2,
       "version_minor": 0
      },
      "text/plain": [
       "VBox()"
      ]
     },
     "metadata": {},
     "output_type": "display_data"
    },
    {
     "name": "stdout",
     "output_type": "stream",
     "text": [
      "Starting Spark application\n"
     ]
    },
    {
     "data": {
      "text/html": [
       "<table>\n",
       "<tr><th>ID</th><th>YARN Application ID</th><th>Kind</th><th>State</th><th>Spark UI</th><th>Driver log</th><th>Current session?</th></tr><tr><td>0</td><td>application_1615064107031_0003</td><td>pyspark</td><td>idle</td><td><a target=\"_blank\" href=\"http://ip-172-31-80-132.ec2.internal:20888/proxy/application_1615064107031_0003/\">Link</a></td><td><a target=\"_blank\" href=\"http://ip-172-31-91-203.ec2.internal:8042/node/containerlogs/container_1615064107031_0003_01_000001/livy\">Link</a></td><td>✔</td></tr></table>"
      ],
      "text/plain": [
       "<IPython.core.display.HTML object>"
      ]
     },
     "metadata": {},
     "output_type": "display_data"
    },
    {
     "data": {
      "application/vnd.jupyter.widget-view+json": {
       "model_id": "",
       "version_major": 2,
       "version_minor": 0
      },
      "text/plain": [
       "FloatProgress(value=0.0, bar_style='info', description='Progress:', layout=Layout(height='25px', width='50%'),…"
      ]
     },
     "metadata": {},
     "output_type": "display_data"
    },
    {
     "name": "stdout",
     "output_type": "stream",
     "text": [
      "SparkSession available as 'spark'.\n"
     ]
    },
    {
     "data": {
      "application/vnd.jupyter.widget-view+json": {
       "model_id": "",
       "version_major": 2,
       "version_minor": 0
      },
      "text/plain": [
       "FloatProgress(value=0.0, bar_style='info', description='Progress:', layout=Layout(height='25px', width='50%'),…"
      ]
     },
     "metadata": {},
     "output_type": "display_data"
    }
   ],
   "source": [
    "log_of_songs = [\n",
    "        \"Despacito\",\n",
    "        \"Nice for what\",\n",
    "        \"No tears left to cry\",\n",
    "        \"Despacito\",\n",
    "        \"Havana\",\n",
    "        \"In my feelings\",\n",
    "        \"Nice for what\",\n",
    "        \"despacito\",\n",
    "        \"All the stars\"\n",
    "]\n",
    "\n",
    "distributed_song_log = sc.parallelize(log_of_songs)"
   ]
  },
  {
   "cell_type": "code",
   "execution_count": 4,
   "id": "absent-chain",
   "metadata": {},
   "outputs": [
    {
     "data": {
      "application/vnd.jupyter.widget-view+json": {
       "model_id": "e38dc2c8da334c128712c38d08278cd2",
       "version_major": 2,
       "version_minor": 0
      },
      "text/plain": [
       "VBox()"
      ]
     },
     "metadata": {},
     "output_type": "display_data"
    },
    {
     "data": {
      "application/vnd.jupyter.widget-view+json": {
       "model_id": "",
       "version_major": 2,
       "version_minor": 0
      },
      "text/plain": [
       "FloatProgress(value=0.0, bar_style='info', description='Progress:', layout=Layout(height='25px', width='50%'),…"
      ]
     },
     "metadata": {},
     "output_type": "display_data"
    },
    {
     "name": "stdout",
     "output_type": "stream",
     "text": [
      "['despacito', 'nice for what', 'no tears left to cry', 'despacito', 'havana', 'in my feelings', 'nice for what', 'despacito', 'all the stars']"
     ]
    }
   ],
   "source": [
    "distributed_song_log.map(lambda x: x.lower()).collect()\n"
   ]
  },
  {
   "cell_type": "code",
   "execution_count": 10,
   "id": "liked-intent",
   "metadata": {},
   "outputs": [
    {
     "data": {
      "application/vnd.jupyter.widget-view+json": {
       "model_id": "881cbb5fc38042ada247abea785c633c",
       "version_major": 2,
       "version_minor": 0
      },
      "text/plain": [
       "VBox()"
      ]
     },
     "metadata": {},
     "output_type": "display_data"
    },
    {
     "data": {
      "application/vnd.jupyter.widget-view+json": {
       "model_id": "",
       "version_major": 2,
       "version_minor": 0
      },
      "text/plain": [
       "FloatProgress(value=0.0, bar_style='info', description='Progress:', layout=Layout(height='25px', width='50%'),…"
      ]
     },
     "metadata": {},
     "output_type": "display_data"
    }
   ],
   "source": [
    "cities_data = \"s3n://udacity-emr-data/cities.csv\"\n"
   ]
  },
  {
   "cell_type": "code",
   "execution_count": 16,
   "id": "unnecessary-cement",
   "metadata": {},
   "outputs": [
    {
     "data": {
      "application/vnd.jupyter.widget-view+json": {
       "model_id": "7e40cc760aae40b797db41e3464475da",
       "version_major": 2,
       "version_minor": 0
      },
      "text/plain": [
       "VBox()"
      ]
     },
     "metadata": {},
     "output_type": "display_data"
    },
    {
     "data": {
      "application/vnd.jupyter.widget-view+json": {
       "model_id": "",
       "version_major": 2,
       "version_minor": 0
      },
      "text/plain": [
       "FloatProgress(value=0.0, bar_style='info', description='Progress:', layout=Layout(height='25px', width='50%'),…"
      ]
     },
     "metadata": {},
     "output_type": "display_data"
    },
    {
     "name": "stdout",
     "output_type": "stream",
     "text": [
      "[Row(id='5', name='Aberdeen', coords='POINT(-2.15 57.15)', start_year='2017', url_name='aberdeen', country='Scotland', country_state=None), Row(id='6', name='Adelaide', coords='POINT(138.6 -34.91666667)', start_year='2017', url_name='adelaide', country='Australia', country_state=None), Row(id='7', name='Algiers', coords='POINT(3 36.83333333)', start_year='2017', url_name='algiers', country='Algeria', country_state=None), Row(id='9', name='Ankara', coords='POINT(32.91666667 39.91666667)', start_year='2017', url_name='ankara', country='Turkey', country_state=None), Row(id='16', name='Belém', coords='POINT(-48.48333333 -1.466666667)', start_year='2017', url_name='belem', country='Brazil', country_state=None)]"
     ]
    }
   ],
   "source": [
    "df = spark.read.csv(cities_data,header=True)\n",
    "df.persist()\n",
    "\n",
    "df.head(5)"
   ]
  },
  {
   "cell_type": "code",
   "execution_count": 17,
   "id": "vocal-elephant",
   "metadata": {},
   "outputs": [
    {
     "data": {
      "application/vnd.jupyter.widget-view+json": {
       "model_id": "ed4a1b139b7c46abab9f73c8348073d5",
       "version_major": 2,
       "version_minor": 0
      },
      "text/plain": [
       "VBox()"
      ]
     },
     "metadata": {},
     "output_type": "display_data"
    },
    {
     "data": {
      "application/vnd.jupyter.widget-view+json": {
       "model_id": "",
       "version_major": 2,
       "version_minor": 0
      },
      "text/plain": [
       "FloatProgress(value=0.0, bar_style='info', description='Progress:', layout=Layout(height='25px', width='50%'),…"
      ]
     },
     "metadata": {},
     "output_type": "display_data"
    },
    {
     "name": "stdout",
     "output_type": "stream",
     "text": [
      "['id', 'name', 'coords', 'start_year', 'url_name', 'country', 'country_state']"
     ]
    }
   ],
   "source": [
    "df.columns"
   ]
  },
  {
   "cell_type": "code",
   "execution_count": 18,
   "id": "educated-attribute",
   "metadata": {},
   "outputs": [
    {
     "data": {
      "application/vnd.jupyter.widget-view+json": {
       "model_id": "7c0a7fbc718a439c882def41592e7fc0",
       "version_major": 2,
       "version_minor": 0
      },
      "text/plain": [
       "VBox()"
      ]
     },
     "metadata": {},
     "output_type": "display_data"
    },
    {
     "data": {
      "application/vnd.jupyter.widget-view+json": {
       "model_id": "",
       "version_major": 2,
       "version_minor": 0
      },
      "text/plain": [
       "FloatProgress(value=0.0, bar_style='info', description='Progress:', layout=Layout(height='25px', width='50%'),…"
      ]
     },
     "metadata": {},
     "output_type": "display_data"
    },
    {
     "name": "stdout",
     "output_type": "stream",
     "text": [
      "+-------------+-----+\n",
      "|country_state|count|\n",
      "+-------------+-----+\n",
      "|         Utah|    2|\n",
      "|         S.D.|    2|\n",
      "|        Ariz.|    2|\n",
      "|       Hawaii|    1|\n",
      "|         N.C.|    3|\n",
      "|        Miss.|    1|\n",
      "|         Ohio|    4|\n",
      "|         Ind.|    1|\n",
      "|       Aragón|    1|\n",
      "|          Mo.|    3|\n",
      "|         Ont.|    4|\n",
      "|         Neb.|    2|\n",
      "|         Wis.|    1|\n",
      "|         Alb.|    1|\n",
      "|        Tenn.|    3|\n",
      "|          Va.|    3|\n",
      "|      Neuquén|    1|\n",
      "|         Ore.|    4|\n",
      "|          Md.|    1|\n",
      "|         null|  200|\n",
      "+-------------+-----+\n",
      "only showing top 20 rows"
     ]
    }
   ],
   "source": [
    "df.groupBy('country_state').count().show()"
   ]
  },
  {
   "cell_type": "code",
   "execution_count": 19,
   "id": "exempt-james",
   "metadata": {},
   "outputs": [
    {
     "data": {
      "application/vnd.jupyter.widget-view+json": {
       "model_id": "99634a74a5a84e36847d6116e02ac4a9",
       "version_major": 2,
       "version_minor": 0
      },
      "text/plain": [
       "VBox()"
      ]
     },
     "metadata": {},
     "output_type": "display_data"
    },
    {
     "data": {
      "application/vnd.jupyter.widget-view+json": {
       "model_id": "",
       "version_major": 2,
       "version_minor": 0
      },
      "text/plain": [
       "FloatProgress(value=0.0, bar_style='info', description='Progress:', layout=Layout(height='25px', width='50%'),…"
      ]
     },
     "metadata": {},
     "output_type": "display_data"
    },
    {
     "name": "stdout",
     "output_type": "stream",
     "text": [
      "+----------+-----+\n",
      "|start_year|count|\n",
      "+----------+-----+\n",
      "|      1897|    1|\n",
      "|      1880|    1|\n",
      "|      1987|    1|\n",
      "|      2017|  208|\n",
      "|      2014|    1|\n",
      "|      1984|    1|\n",
      "|      2013|    1|\n",
      "|      1982|    1|\n",
      "|      1919|    1|\n",
      "|      2000|    1|\n",
      "|      1877|    1|\n",
      "|      1965|    1|\n",
      "|      null|    3|\n",
      "|      1909|    1|\n",
      "|      1833|    1|\n",
      "|      1898|    1|\n",
      "|      1874|    1|\n",
      "|      1978|    1|\n",
      "|      2002|    1|\n",
      "|      2018|   47|\n",
      "+----------+-----+\n",
      "only showing top 20 rows"
     ]
    }
   ],
   "source": [
    "df.groupBy('start_year').count().show()"
   ]
  },
  {
   "cell_type": "code",
   "execution_count": 20,
   "id": "adverse-destination",
   "metadata": {},
   "outputs": [
    {
     "data": {
      "application/vnd.jupyter.widget-view+json": {
       "model_id": "eeefff3702354221bbe2f8a6e144330e",
       "version_major": 2,
       "version_minor": 0
      },
      "text/plain": [
       "VBox()"
      ]
     },
     "metadata": {},
     "output_type": "display_data"
    },
    {
     "data": {
      "application/vnd.jupyter.widget-view+json": {
       "model_id": "",
       "version_major": 2,
       "version_minor": 0
      },
      "text/plain": [
       "FloatProgress(value=0.0, bar_style='info', description='Progress:', layout=Layout(height='25px', width='50%'),…"
      ]
     },
     "metadata": {},
     "output_type": "display_data"
    },
    {
     "name": "stdout",
     "output_type": "stream",
     "text": [
      "+-----------+-----+\n",
      "|    country|count|\n",
      "+-----------+-----+\n",
      "|   Paraguay|    1|\n",
      "|     Russia|    4|\n",
      "|    Senegal|    1|\n",
      "|     Sweden|    1|\n",
      "|     Guyana|    1|\n",
      "|Philippines|    1|\n",
      "|   Djibouti|    1|\n",
      "|   Malaysia|    1|\n",
      "|  Singapore|    1|\n",
      "|     Turkey|    1|\n",
      "|    Germany|    5|\n",
      "|     France|   71|\n",
      "|     Greece|    1|\n",
      "|    Algeria|    1|\n",
      "|  Argentina|    6|\n",
      "|    Belgium|    1|\n",
      "|    Ecuador|    1|\n",
      "| Madagascar|    1|\n",
      "|    Finland|    1|\n",
      "|    Myanmar|    1|\n",
      "+-----------+-----+\n",
      "only showing top 20 rows"
     ]
    }
   ],
   "source": [
    "df.groupBy('country').count().show()"
   ]
  },
  {
   "cell_type": "code",
   "execution_count": null,
   "id": "ethical-private",
   "metadata": {},
   "outputs": [],
   "source": []
  }
 ],
 "metadata": {
  "kernelspec": {
   "display_name": "PySpark",
   "language": "",
   "name": "pysparkkernel"
  },
  "language_info": {
   "codemirror_mode": {
    "name": "python",
    "version": 2
   },
   "mimetype": "text/x-python",
   "name": "pyspark",
   "pygments_lexer": "python2"
  }
 },
 "nbformat": 4,
 "nbformat_minor": 5
}
