{
 "cells": [
  {
   "cell_type": "code",
   "execution_count": null,
   "id": "provincial-drink",
   "metadata": {},
   "outputs": [
    {
     "data": {
      "application/vnd.jupyter.widget-view+json": {
       "model_id": "740393c907b2403fade4ed0aa51e7404",
       "version_major": 2,
       "version_minor": 0
      },
      "text/plain": [
       "VBox()"
      ]
     },
     "metadata": {},
     "output_type": "display_data"
    },
    {
     "name": "stdout",
     "output_type": "stream",
     "text": [
      "Starting Spark application\n"
     ]
    }
   ],
   "source": [
    "cities_data = \"s3n://udacity-emr-data/parking_violation.csv\"\n",
    "df = spark.read.csv(cities_data,header=True)"
   ]
  },
  {
   "cell_type": "code",
   "execution_count": 3,
   "id": "musical-artwork",
   "metadata": {},
   "outputs": [
    {
     "data": {
      "application/vnd.jupyter.widget-view+json": {
       "model_id": "5213cd869cc64701ad948e1fbd490e93",
       "version_major": 2,
       "version_minor": 0
      },
      "text/plain": [
       "VBox()"
      ]
     },
     "metadata": {},
     "output_type": "display_data"
    },
    {
     "data": {
      "application/vnd.jupyter.widget-view+json": {
       "model_id": "",
       "version_major": 2,
       "version_minor": 0
      },
      "text/plain": [
       "FloatProgress(value=0.0, bar_style='info', description='Progress:', layout=Layout(height='25px', width='50%'),…"
      ]
     },
     "metadata": {},
     "output_type": "display_data"
    },
    {
     "name": "stdout",
     "output_type": "stream",
     "text": [
      "['_c0', 'Summons_Number', 'Plate_ID', 'Registration_State', 'Plate_Type', 'Issue_Date', 'Violation_Code', 'Vehicle_Body_Type', 'Vehicle_Make', 'Issuing_Agency', 'Street_Code1', 'Street_Code2', 'Street_Code3', 'Vehicle_Expiration_Date', 'Violation_Location', 'Violation_Precinct', 'Issuer_Precinct', 'Issuer_Code', 'Issuer_Command', 'Issuer_Squad', 'Violation_Time', 'Time_First_Observed', 'Violation_County', 'Violation_In_Front_Of_Or_Opposite', 'House_Number', 'Street_Name', 'Intersecting_Street', 'Date_First_Observed', 'Law_Section', 'Sub_Division', 'Violation_Legal_Code', 'Days_Parking_In_Effect____', 'From_Hours_In_Effect', 'To_Hours_In_Effect', 'Vehicle_Color', 'Unregistered_Vehicle?', 'Vehicle_Year', 'Meter_Number', 'Feet_From_Curb', 'Violation_Post_Code', 'Violation_Description', 'No_Standing_or_Stopping_Violation', 'Hydrant_Violation', 'Double_Parking_Violation', 'Latitude', 'Longitude', 'Community_Board', 'Community_Council_', 'Census_Tract', 'BIN', 'BBL', 'NTA', 'year', 'month']"
     ]
    }
   ],
   "source": [
    "col_list = df.columns\n",
    "print(col_list)"
   ]
  },
  {
   "cell_type": "code",
   "execution_count": 5,
   "id": "stylish-likelihood",
   "metadata": {},
   "outputs": [
    {
     "data": {
      "application/vnd.jupyter.widget-view+json": {
       "model_id": "1c3a71394e8e499583bf696222458b60",
       "version_major": 2,
       "version_minor": 0
      },
      "text/plain": [
       "VBox()"
      ]
     },
     "metadata": {},
     "output_type": "display_data"
    },
    {
     "data": {
      "application/vnd.jupyter.widget-view+json": {
       "model_id": "",
       "version_major": 2,
       "version_minor": 0
      },
      "text/plain": [
       "FloatProgress(value=0.0, bar_style='info', description='Progress:', layout=Layout(height='25px', width='50%'),…"
      ]
     },
     "metadata": {},
     "output_type": "display_data"
    },
    {
     "name": "stdout",
     "output_type": "stream",
     "text": [
      "[Row(year='2012', count=189), Row(year='1988', count=3), Row(year='2014', count=5821043), Row(year='2013', count=592), Row(year='2005', count=14), Row(year='2000', count=261), Row(year='2002', count=3), Row(year='2009', count=3), Row(year='2006', count=3), Row(year='2004', count=22), Row(year='2011', count=122), Row(year='2008', count=6), Row(year='2007', count=3), Row(year='1986', count=1), Row(year='1985', count=1), Row(year='2015', count=5986831), Row(year='2001', count=22), Row(year='2010', count=110), Row(year='2003', count=3), Row(year='1991', count=1)]\n",
      "[Row(month='7', count=969938), Row(month='11', count=798897), Row(month='3', count=965119), Row(month='8', count=911641), Row(month='5', count=1040148), Row(month='6', count=1276592), Row(month='9', count=1029583), Row(month='1', count=1392992), Row(month='10', count=966456), Row(month='4', count=951716), Row(month='12', count=774287), Row(month='2', count=731864)]"
     ]
    }
   ],
   "source": [
    "year_df = df.groupby(\"year\").count().collect()\n",
    "print(year_df)\n",
    "month_df = df.groupby(\"month\").count().collect()\n",
    "print(month_df)"
   ]
  },
  {
   "cell_type": "code",
   "execution_count": 7,
   "id": "double-technique",
   "metadata": {},
   "outputs": [
    {
     "data": {
      "application/vnd.jupyter.widget-view+json": {
       "model_id": "06d8dec52a044feeaa482ef2402778cd",
       "version_major": 2,
       "version_minor": 0
      },
      "text/plain": [
       "VBox()"
      ]
     },
     "metadata": {},
     "output_type": "display_data"
    },
    {
     "data": {
      "application/vnd.jupyter.widget-view+json": {
       "model_id": "",
       "version_major": 2,
       "version_minor": 0
      },
      "text/plain": [
       "FloatProgress(value=0.0, bar_style='info', description='Progress:', layout=Layout(height='25px', width='50%'),…"
      ]
     },
     "metadata": {},
     "output_type": "display_data"
    }
   ],
   "source": [
    "df.write.mode(\"overwrite\").partitionBy('year').csv(\"s3n://udacity-emr-data/parking_violation_year_parition\")"
   ]
  },
  {
   "cell_type": "code",
   "execution_count": 8,
   "id": "continuous-snapshot",
   "metadata": {},
   "outputs": [
    {
     "data": {
      "application/vnd.jupyter.widget-view+json": {
       "model_id": "2ad4794d5a444d148dbb5dc6592972ad",
       "version_major": 2,
       "version_minor": 0
      },
      "text/plain": [
       "VBox()"
      ]
     },
     "metadata": {},
     "output_type": "display_data"
    },
    {
     "data": {
      "application/vnd.jupyter.widget-view+json": {
       "model_id": "",
       "version_major": 2,
       "version_minor": 0
      },
      "text/plain": [
       "FloatProgress(value=0.0, bar_style='info', description='Progress:', layout=Layout(height='25px', width='50%'),…"
      ]
     },
     "metadata": {},
     "output_type": "display_data"
    }
   ],
   "source": [
    "workers=3\n",
    "df.repartition(workers).write.mode(\"overwrite\").csv(\"s3n://udacity-emr-data/parking_violation_year_parition_base_partition\")"
   ]
  },
  {
   "cell_type": "code",
   "execution_count": null,
   "id": "violent-tamil",
   "metadata": {},
   "outputs": [],
   "source": []
  }
 ],
 "metadata": {
  "kernelspec": {
   "display_name": "PySpark",
   "language": "",
   "name": "pysparkkernel"
  },
  "language_info": {
   "codemirror_mode": {
    "name": "python",
    "version": 2
   },
   "mimetype": "text/x-python",
   "name": "pyspark",
   "pygments_lexer": "python2"
  }
 },
 "nbformat": 4,
 "nbformat_minor": 5
}
